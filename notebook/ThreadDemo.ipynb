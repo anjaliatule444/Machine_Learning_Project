{
 "cells": [
  {
   "cell_type": "code",
   "execution_count": 2,
   "metadata": {},
   "outputs": [],
   "source": [
    "from threading import Thread"
   ]
  },
  {
   "cell_type": "code",
   "execution_count": 3,
   "metadata": {},
   "outputs": [],
   "source": [
    "import time"
   ]
  },
  {
   "cell_type": "markdown",
   "metadata": {},
   "source": [
    "When we create object of thread class and run d.start() then threading will execute run() function of class. So we are supposed to override \n",
    "run() function. Now we kept time.sleep(10) in print_msg so it will not wait for print_msg returns rather it will continue to execute the next commands after d.start() . d.join() will wait for print_msg() output thread. So with this we can enable fast and parallel execution. We can complete the functions faster and independently."
   ]
  },
  {
   "cell_type": "code",
   "execution_count": 10,
   "metadata": {},
   "outputs": [],
   "source": [
    "class DemoThread(Thread):\n",
    "    def __init__(self):\n",
    "        super().__init__(daemon=False, name=\"pipeline\")\n",
    "\n",
    "    def print_msg(self):\n",
    "        time.sleep(10)\n",
    "        print(\" I am calling from thread\")\n",
    "\n",
    "    def run(self):\n",
    "        self.print_msg()"
   ]
  },
  {
   "cell_type": "code",
   "execution_count": 11,
   "metadata": {},
   "outputs": [
    {
     "name": "stdout",
     "output_type": "stream",
     "text": [
      "Initialize Thread\n",
      "Starting thread\n",
      "It is not waiting for print_msg() output\n",
      "I am still running\n",
      "Joining the thread\n",
      " I am calling from thread\n",
      "Thread completed\n"
     ]
    }
   ],
   "source": [
    "print(\"Initialize Thread\")\n",
    "d=DemoThread()\n",
    "print(\"Starting thread\")\n",
    "d.start()\n",
    "print(\"It is not waiting for print_msg() output\")\n",
    "print(\"I am still running\")\n",
    "print(\"Joining the thread\")\n",
    "d.join()\n",
    "print(\"Thread completed\")"
   ]
  },
  {
   "cell_type": "code",
   "execution_count": null,
   "metadata": {},
   "outputs": [],
   "source": []
  }
 ],
 "metadata": {
  "kernelspec": {
   "display_name": "Python 3.7.0 (conda)",
   "language": "python",
   "name": "python3"
  },
  "language_info": {
   "codemirror_mode": {
    "name": "ipython",
    "version": 3
   },
   "file_extension": ".py",
   "mimetype": "text/x-python",
   "name": "python",
   "nbconvert_exporter": "python",
   "pygments_lexer": "ipython3",
   "version": "3.7.0"
  },
  "orig_nbformat": 4,
  "vscode": {
   "interpreter": {
    "hash": "015b3f9b2f4be60076cda8e0470f057732a5ee3c16bf0d44c32b62387829f946"
   }
  }
 },
 "nbformat": 4,
 "nbformat_minor": 2
}
